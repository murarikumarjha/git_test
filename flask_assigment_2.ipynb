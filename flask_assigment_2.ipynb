{
 "cells": [
  {
   "cell_type": "markdown",
   "id": "5c445a82-a957-46c4-8318-50afba8c7a05",
   "metadata": {},
   "source": [
    "Q1. Explain GET and POST methods."
   ]
  },
  {
   "cell_type": "markdown",
   "id": "9860b553-d3dd-46c9-b6cf-14f48d629acd",
   "metadata": {},
   "source": [
    "Flask Request get\n",
    "\n",
    "When Flask request get is used the form data is passed on to the requested script in form action through URL as arguments. The data is collected from the form and send along with the URL as parameter and value pairs. These values can be accessed in the requested script by using request.args and passing the names of the parameter\n",
    "\n",
    "Flask Request post\n",
    "When Flask request post is used the form data is collected from the requesting form and passed on to the script. This data is not sent along with URL as arguments. This sent data is not visible in the URL. These values can be accessed in the script by using request.form.get passing the name of the parameter whose data you want to access."
   ]
  },
  {
   "cell_type": "markdown",
   "id": "9deadbf6-359d-4aa9-a71f-69a7b3fc2d7f",
   "metadata": {},
   "source": [
    "Q2. Why is request used in Flask?"
   ]
  },
  {
   "cell_type": "markdown",
   "id": "95fef2a5-ef05-4b14-ac99-b6ab59eea38a",
   "metadata": {},
   "source": [
    "To access the incoming data in Flask, you have to use the request object. The request object holds all incoming data from the request, which includes the mimetype, referrer, IP address, raw data, HTTP method, and headers, among other things."
   ]
  },
  {
   "cell_type": "markdown",
   "id": "937c64e2-954b-4428-a0cb-b3cf83c020a3",
   "metadata": {},
   "source": [
    "Flask redirect is a function that returns a response object and redirects the user to another target location with the specified status code. The syntax of Flask redirect is:\n",
    "\n",
    "redirect(location, code, response=None)\n",
    "\n",
    "where location is the URL of the final webpage, code is the HTTP redirect status code, and response is the optional response class to use. The redirect function can be used with the abort function to exit from the code loop1."
   ]
  },
  {
   "cell_type": "markdown",
   "id": "106690af-688a-4c52-804e-251fd05674ef",
   "metadata": {},
   "source": [
    "Q4. What are templates in Flask? Why is the render_template() function used?"
   ]
  },
  {
   "cell_type": "markdown",
   "id": "1ac62593-e579-4628-8d16-f09753973cf1",
   "metadata": {},
   "source": [
    "A template is just a text file which contains static HTML code as well as some special markup denoting dynamic content that will be known at the time of the request. The process which replaces the dynamic markup and generates flat HTML page is known as template rendering. Flask comes bundled with a template engine called Jinja which does the actual job of parsing templates and converting them to flat HTML page.\n",
    "\n",
    "By default, Flask looks for templates in the subdirectory named templates inside the application folder. We can change this default behavior by passing template_folder argument to the Flask constructor at the time of creating application instance."
   ]
  },
  {
   "cell_type": "markdown",
   "id": "058a34f2-4dc7-470a-8e67-155986b93764",
   "metadata": {},
   "source": [
    "Q5. Create a simple API. Use Postman to test it. Attach the screenshot of the output in the Jupyter Notebook."
   ]
  },
  {
   "cell_type": "markdown",
   "id": "83878577-de70-4d36-bef9-e3675eade89e",
   "metadata": {},
   "source": [
    "from flask import Flask,request ,render_template , jsonify\n",
    "\n",
    "app = Flask(__name__)\n",
    "\n",
    "\n",
    "@app.route('/')\n",
    "def home_page():\n",
    "    return render_template('index.html')\n",
    "\n",
    "\n",
    "@app.route('/math',methods=['POST'])\n",
    "def math_ops():\n",
    "    if(request.method == 'POST'):\n",
    "        ops = request.form['operation']\n",
    "        num1 = int(request.form['num1'])\n",
    "        num2 = int(request.form['num2'])\n",
    "        if ops == 'add':\n",
    "            r = num1+num2\n",
    "            result = \"The sum of \" + str(num1) + 'and ' + str(num2) + \"is \" + str(r)\n",
    "        if ops == 'subtract':\n",
    "            r = num1-num2\n",
    "            result = \"The subtract of \" + str(num1) + 'and ' + str(num2) + \"is \" + str(r)\n",
    "        if ops == 'multiply':\n",
    "            r = num1*num2\n",
    "            result = \"The multiply of \" + str(num1) + 'and ' + str(num2) + \"is \" + str(r)\n",
    "        if ops == 'divide':\n",
    "            r = num1/num2\n",
    "            result = \"The divide of \" + str(num1) + 'and ' + str(num2) + \"is \" + str(r)\n",
    "            \n",
    "        return render_template('results.html' , result = result)\n",
    "\n",
    "\n",
    "\n",
    "\n",
    "@app.route('/postman_action',methods=['POST'])\n",
    "def math_ops1():\n",
    "    if(request.method == 'POST'):\n",
    "        ops = request.json['operation']\n",
    "        num1 = int(request.json['num1'])\n",
    "        num2 = int(request.json['num2'])\n",
    "        if ops == 'add':\n",
    "            r = num1+num2\n",
    "            result = \"The sum of \" + str(num1) + 'and ' + str(num2) + \"is \" + str(r)\n",
    "        if ops == 'subtract':\n",
    "            r = num1-num2\n",
    "            result = \"The subtract of \" + str(num1) + 'and ' + str(num2) + \"is \" + str(r)\n",
    "        if ops == 'multiply':\n",
    "            r = num1*num2\n",
    "            result = \"The multiply of \" + str(num1) + 'and ' + str(num2) + \"is \" + str(r)\n",
    "        if ops == 'divide':\n",
    "            r = num1/num2\n",
    "            result = \"The divide of \" + str(num1) + 'and ' + str(num2) + \"is \" + str(r)\n",
    "            \n",
    "        return jsonify(result)\n",
    "\n",
    "if __name__==\"__main__\":\n",
    "    app.run(host=\"0.0.0.0\")\n"
   ]
  },
  {
   "cell_type": "markdown",
   "id": "b0e06fc3-1276-4269-af4c-aceabf66abfd",
   "metadata": {},
   "source": [
    "![](pic.png)"
   ]
  },
  {
   "cell_type": "code",
   "execution_count": null,
   "id": "31eb165e-44f1-4a87-aecc-532aaee85dca",
   "metadata": {},
   "outputs": [],
   "source": []
  }
 ],
 "metadata": {
  "kernelspec": {
   "display_name": "Python 3 (ipykernel)",
   "language": "python",
   "name": "python3"
  },
  "language_info": {
   "codemirror_mode": {
    "name": "ipython",
    "version": 3
   },
   "file_extension": ".py",
   "mimetype": "text/x-python",
   "name": "python",
   "nbconvert_exporter": "python",
   "pygments_lexer": "ipython3",
   "version": "3.10.8"
  }
 },
 "nbformat": 4,
 "nbformat_minor": 5
}
