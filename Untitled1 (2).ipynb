{
 "cells": [
  {
   "cell_type": "markdown",
   "id": "5f5d1cb5-db37-45df-a2d2-48951ea3542f",
   "metadata": {},
   "source": [
    "<h1>  How to insert picture in jupiter notebook </h1>"
   ]
  },
  {
   "cell_type": "code",
   "execution_count": 2,
   "id": "7a2fd74c-1fc9-49ba-8761-aa9a1cd8ba71",
   "metadata": {},
   "outputs": [
    {
     "data": {
      "text/plain": [
       "'/home/jovyan/work'"
      ]
     },
     "execution_count": 2,
     "metadata": {},
     "output_type": "execute_result"
    }
   ],
   "source": [
    "import os \n",
    "cwd = os.getcwd()\n",
    "cwd"
   ]
  },
  {
   "cell_type": "markdown",
   "id": "c1b3c857-0434-48d3-8159-400cf39a51dc",
   "metadata": {},
   "source": [
    "<img src = \"old photo.jpeg\">"
   ]
  },
  {
   "cell_type": "code",
   "execution_count": null,
   "id": "993b2d42-6511-4735-9614-af3bab47b0a5",
   "metadata": {},
   "outputs": [],
   "source": []
  }
 ],
 "metadata": {
  "kernelspec": {
   "display_name": "Python 3 (ipykernel)",
   "language": "python",
   "name": "python3"
  },
  "language_info": {
   "codemirror_mode": {
    "name": "ipython",
    "version": 3
   },
   "file_extension": ".py",
   "mimetype": "text/x-python",
   "name": "python",
   "nbconvert_exporter": "python",
   "pygments_lexer": "ipython3",
   "version": "3.10.8"
  }
 },
 "nbformat": 4,
 "nbformat_minor": 5
}
