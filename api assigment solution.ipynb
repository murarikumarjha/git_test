{
 "cells": [
  {
   "cell_type": "markdown",
   "id": "8a101cac-7d89-451f-948f-3f602f6d7768",
   "metadata": {},
   "source": [
    "        18 feb         api assgment solution"
   ]
  },
  {
   "cell_type": "markdown",
   "id": "5e89c64a-80e5-474c-b956-2e7ea5bf92b9",
   "metadata": {},
   "source": [
    "Q1. What is an API? Give an example, where an API is used in real life."
   ]
  },
  {
   "cell_type": "raw",
   "id": "28067b90-454b-44b4-a7a0-c972e08e2dc5",
   "metadata": {},
   "source": [
    "Application Programming Interface (API) is a software interface that allows two applications to interact with each other without any user intervention. API is a collection of software functions and procedures. In simple terms, API means a software code that can be accessed or executed. API is defined as a code that helps two different software’s to communicate and exchange data with each other.\n",
    "\n",
    "For example, you go to the movie site, you enter your movie, name, and credit card information, and behold, you print out tickets.\n",
    "\n",
    "They are collaborating with other applications. This integration is called “seamless,” as you never have a clue when a software role is passed from one application to another.\n",
    "\n",
    "Financial institutions like banks use private APIs to track and manage checking accounts, credit cards, and more.\n",
    "Retail giants use APIs to communicate with courier networks, ensuring packages are picked up as soon as possible and tracking them as they are moved.\n",
    "Web applications use APIs to connect user-facing front ends with all-important back end functionality and data.\n",
    "Streaming services like Spotify and Netflix use APIs to distribute content.\n",
    "Automotive companies like Tesla send software updates via APIs. Others use APIs to unlock car data for third-parties."
   ]
  },
  {
   "cell_type": "raw",
   "id": "61a23191-92ef-4088-8b9c-f332e240a91f",
   "metadata": {},
   "source": [
    "Q2. Give advantages and disadvantages of using API."
   ]
  },
  {
   "cell_type": "raw",
   "id": "642b6a9b-fb3a-4240-9a4f-a46b2ecd3c4f",
   "metadata": {},
   "source": [
    "Advantages:\n",
    "Here are the important pros/benefits of using web services:\n",
    "\n",
    "Offers faster communications within and across organizations\n",
    "Each service exists independently of other services.\n",
    "Interoperability has the highest priority.\n",
    "Using Web services, your application helps you to publish its message or function to the rest of the world.\n",
    "Web services help solve interoperability issues by giving different applications a way to link their data.\n",
    "Web services help you to exchange data between different applications and different platforms.\n",
    "It allows applications to communicate, exchange data, and shared services among themselves.\n",
    "Web services are specifically designed to be used as a web page request and help you to receive data.\n",
    "It serves as building blocks which makes it easy to reuse web service components in other services. Web Services are deployed on internet standards such as standard Apache, and Axis2. It provides WSDL, HTTP, driven services.\n",
    "\n",
    "\n",
    "Disadvantages of API\n",
    "Here are important drawbacks/cons of using API services:\n",
    "\n",
    "Creating API is a very time-consuming process\n",
    "A fixed scale is necessary\n",
    "Imprecise boundary delineation\n",
    "To create API, programming knowledge is necessary\n",
    "Maintenance cost is very high\n",
    "It can crash when testing API"
   ]
  },
  {
   "cell_type": "markdown",
   "id": "d0182570-a0c6-4373-b20f-5a4217a635e5",
   "metadata": {},
   "source": [
    "Q3. What is a Web API? Differentiate between API and Web API."
   ]
  },
  {
   "cell_type": "raw",
   "id": "de7546b8-4277-4f88-80ae-bc9a64ea54b9",
   "metadata": {},
   "source": [
    "API is the acronym for Application Programming Interface. It is a software interface that allows two applications to interact with each other without any user intervention.\n",
    "APIs provides product or service to communicate with other products and services without having to know how they’re implemented.\n",
    "\n",
    "Web API is the enhanced form of the web application to provide services on different devices like laptop, mobile, and others.\n",
    "Today, all kind of businesses use the internet as a cost-effective way to expand their business in the international market."
   ]
  },
  {
   "cell_type": "markdown",
   "id": "ba12722c-ccec-47e6-b549-f19025395932",
   "metadata": {},
   "source": [
    "Q4. Explain REST and SOAP Architecture. Mention shortcomings of SOAP."
   ]
  },
  {
   "cell_type": "raw",
   "id": "98eec193-9579-4813-9712-c869d17cf9b4",
   "metadata": {},
   "source": [
    "Ans. REST and SOAP Architecture- Representational State Transfer (REST) is a software architecture style for building scalable web services.\n",
    "          REST services typically communicate via HTTP and are built using XML and JSON. \n",
    "         Simple Object Access Protocol (SOAP) is a protocol specification for exchanging structured information to implement web services."
   ]
  },
  {
   "cell_type": "markdown",
   "id": "82c33acb-d450-453a-ae49-68f97ad33911",
   "metadata": {},
   "source": [
    "Q5. Differentiate between REST and SOAP."
   ]
  },
  {
   "cell_type": "markdown",
   "id": "328a0a88-6f83-4ae8-a410-eedbf2afb677",
   "metadata": {},
   "source": [
    "Ans. 1.SOAP stands for Simple Object Access Protocol whereas REST stands for Representational State Transfer.\n",
    "     2.SOAP is a protocol whereas REST is an architectural pattern.\n",
    "     3.SOAP uses service interfaces to expose its functionality to client applications while REST uses Uniform Service locators to access to \n",
    "        the components on the hardware device.\n",
    "    4.SOAP needs more bandwidth for its usage whereas REST doesn’t need much bandwidth.\n",
    "    5.SOAP cannot make use of REST whereas REST can make use of SOAP."
   ]
  },
  {
   "cell_type": "code",
   "execution_count": null,
   "id": "db6a044a-28b6-4ca4-b991-0d07fed25ff7",
   "metadata": {},
   "outputs": [],
   "source": []
  }
 ],
 "metadata": {
  "kernelspec": {
   "display_name": "Python 3 (ipykernel)",
   "language": "python",
   "name": "python3"
  },
  "language_info": {
   "codemirror_mode": {
    "name": "ipython",
    "version": 3
   },
   "file_extension": ".py",
   "mimetype": "text/x-python",
   "name": "python",
   "nbconvert_exporter": "python",
   "pygments_lexer": "ipython3",
   "version": "3.10.8"
  }
 },
 "nbformat": 4,
 "nbformat_minor": 5
}
